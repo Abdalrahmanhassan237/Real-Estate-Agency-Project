{
 "cells": [
  {
   "cell_type": "markdown",
   "id": "3899b621",
   "metadata": {},
   "source": [
    "### Connecting to the database on SQL Server."
   ]
  },
  {
   "cell_type": "code",
   "execution_count": 37,
   "id": "0fa3df57",
   "metadata": {},
   "outputs": [
    {
     "name": "stdout",
     "output_type": "stream",
     "text": [
      "Connection went successfully!\n"
     ]
    }
   ],
   "source": [
    "import pyodbc\n",
    "\n",
    "conn = pyodbc.connect(\n",
    "    \"DRIVER={ODBC Driver 17 for SQL Server};\"\n",
    "    \"SERVER=DESKTOP-JACG8CO\\\\SQLEXPRESS;\"\n",
    "    \"DATABASE=RealEstateAgency;\"\n",
    "    \"Trusted_Connection=yes;\"\n",
    ")\n",
    "print(\"Connection went successfully!\")"
   ]
  },
  {
   "cell_type": "code",
   "execution_count": 38,
   "id": "7e04ef5c",
   "metadata": {},
   "outputs": [
    {
     "name": "stderr",
     "output_type": "stream",
     "text": [
      "C:\\Users\\mokha\\AppData\\Local\\Temp\\ipykernel_21792\\4229557346.py:3: UserWarning: pandas only supports SQLAlchemy connectable (engine/connection) or database string URI or sqlite3 DBAPI2 connection. Other DBAPI2 objects are not tested. Please consider using SQLAlchemy.\n",
      "  result = pd.read_sql_query(query, conn)\n"
     ]
    },
    {
     "data": {
      "text/html": [
       "<div>\n",
       "<style scoped>\n",
       "    .dataframe tbody tr th:only-of-type {\n",
       "        vertical-align: middle;\n",
       "    }\n",
       "\n",
       "    .dataframe tbody tr th {\n",
       "        vertical-align: top;\n",
       "    }\n",
       "\n",
       "    .dataframe thead th {\n",
       "        text-align: right;\n",
       "    }\n",
       "</style>\n",
       "<table border=\"1\" class=\"dataframe\">\n",
       "  <thead>\n",
       "    <tr style=\"text-align: right;\">\n",
       "      <th></th>\n",
       "      <th>table_name</th>\n",
       "    </tr>\n",
       "  </thead>\n",
       "  <tbody>\n",
       "    <tr>\n",
       "      <th>0</th>\n",
       "      <td>Properties</td>\n",
       "    </tr>\n",
       "    <tr>\n",
       "      <th>1</th>\n",
       "      <td>Clients</td>\n",
       "    </tr>\n",
       "    <tr>\n",
       "      <th>2</th>\n",
       "      <td>Agents</td>\n",
       "    </tr>\n",
       "    <tr>\n",
       "      <th>3</th>\n",
       "      <td>Sales</td>\n",
       "    </tr>\n",
       "    <tr>\n",
       "      <th>4</th>\n",
       "      <td>Visits</td>\n",
       "    </tr>\n",
       "    <tr>\n",
       "      <th>5</th>\n",
       "      <td>sysdiagrams</td>\n",
       "    </tr>\n",
       "  </tbody>\n",
       "</table>\n",
       "</div>"
      ],
      "text/plain": [
       "    table_name\n",
       "0   Properties\n",
       "1      Clients\n",
       "2       Agents\n",
       "3        Sales\n",
       "4       Visits\n",
       "5  sysdiagrams"
      ]
     },
     "execution_count": 38,
     "metadata": {},
     "output_type": "execute_result"
    }
   ],
   "source": [
    "import pandas as pd\n",
    "query = \"select table_name from information_schema.tables;\"\n",
    "result = pd.read_sql_query(query, conn)\n",
    "result"
   ]
  },
  {
   "cell_type": "markdown",
   "id": "82422e07",
   "metadata": {},
   "source": [
    "### Exploring 'Properties' table."
   ]
  },
  {
   "cell_type": "code",
   "execution_count": 39,
   "id": "cae05943",
   "metadata": {},
   "outputs": [
    {
     "name": "stderr",
     "output_type": "stream",
     "text": [
      "C:\\Users\\mokha\\AppData\\Local\\Temp\\ipykernel_21792\\2605173858.py:1: UserWarning: pandas only supports SQLAlchemy connectable (engine/connection) or database string URI or sqlite3 DBAPI2 connection. Other DBAPI2 objects are not tested. Please consider using SQLAlchemy.\n",
      "  properties = pd.read_sql_query(\"select * from Properties\", conn)\n"
     ]
    },
    {
     "data": {
      "text/html": [
       "<div>\n",
       "<style scoped>\n",
       "    .dataframe tbody tr th:only-of-type {\n",
       "        vertical-align: middle;\n",
       "    }\n",
       "\n",
       "    .dataframe tbody tr th {\n",
       "        vertical-align: top;\n",
       "    }\n",
       "\n",
       "    .dataframe thead th {\n",
       "        text-align: right;\n",
       "    }\n",
       "</style>\n",
       "<table border=\"1\" class=\"dataframe\">\n",
       "  <thead>\n",
       "    <tr style=\"text-align: right;\">\n",
       "      <th></th>\n",
       "      <th>PropertyID</th>\n",
       "      <th>PropertyType</th>\n",
       "      <th>Location</th>\n",
       "      <th>Size_sqm</th>\n",
       "      <th>PriceUSD</th>\n",
       "    </tr>\n",
       "  </thead>\n",
       "  <tbody>\n",
       "    <tr>\n",
       "      <th>985</th>\n",
       "      <td>986</td>\n",
       "      <td>Apartment</td>\n",
       "      <td>New York</td>\n",
       "      <td>118</td>\n",
       "      <td>236638</td>\n",
       "    </tr>\n",
       "    <tr>\n",
       "      <th>305</th>\n",
       "      <td>306</td>\n",
       "      <td>Villa</td>\n",
       "      <td>Miami</td>\n",
       "      <td>459</td>\n",
       "      <td>168372</td>\n",
       "    </tr>\n",
       "    <tr>\n",
       "      <th>399</th>\n",
       "      <td>400</td>\n",
       "      <td>Retail</td>\n",
       "      <td>Los Angeles</td>\n",
       "      <td>253</td>\n",
       "      <td>63311</td>\n",
       "    </tr>\n",
       "    <tr>\n",
       "      <th>537</th>\n",
       "      <td>538</td>\n",
       "      <td>Retail</td>\n",
       "      <td>New York</td>\n",
       "      <td>441</td>\n",
       "      <td>584812</td>\n",
       "    </tr>\n",
       "    <tr>\n",
       "      <th>911</th>\n",
       "      <td>912</td>\n",
       "      <td>Warehouse</td>\n",
       "      <td>New York</td>\n",
       "      <td>400</td>\n",
       "      <td>185265</td>\n",
       "    </tr>\n",
       "    <tr>\n",
       "      <th>643</th>\n",
       "      <td>644</td>\n",
       "      <td>Retail</td>\n",
       "      <td>Miami</td>\n",
       "      <td>312</td>\n",
       "      <td>645135</td>\n",
       "    </tr>\n",
       "    <tr>\n",
       "      <th>52</th>\n",
       "      <td>53</td>\n",
       "      <td>Apartment</td>\n",
       "      <td>Houston</td>\n",
       "      <td>177</td>\n",
       "      <td>189472</td>\n",
       "    </tr>\n",
       "    <tr>\n",
       "      <th>599</th>\n",
       "      <td>600</td>\n",
       "      <td>Villa</td>\n",
       "      <td>Chicago</td>\n",
       "      <td>264</td>\n",
       "      <td>609154</td>\n",
       "    </tr>\n",
       "    <tr>\n",
       "      <th>246</th>\n",
       "      <td>247</td>\n",
       "      <td>Retail</td>\n",
       "      <td>Miami</td>\n",
       "      <td>398</td>\n",
       "      <td>827397</td>\n",
       "    </tr>\n",
       "    <tr>\n",
       "      <th>845</th>\n",
       "      <td>846</td>\n",
       "      <td>Office</td>\n",
       "      <td>Miami</td>\n",
       "      <td>479</td>\n",
       "      <td>727071</td>\n",
       "    </tr>\n",
       "  </tbody>\n",
       "</table>\n",
       "</div>"
      ],
      "text/plain": [
       "     PropertyID PropertyType     Location  Size_sqm  PriceUSD\n",
       "985         986    Apartment     New York       118    236638\n",
       "305         306        Villa        Miami       459    168372\n",
       "399         400       Retail  Los Angeles       253     63311\n",
       "537         538       Retail     New York       441    584812\n",
       "911         912    Warehouse     New York       400    185265\n",
       "643         644       Retail        Miami       312    645135\n",
       "52           53    Apartment      Houston       177    189472\n",
       "599         600        Villa      Chicago       264    609154\n",
       "246         247       Retail        Miami       398    827397\n",
       "845         846       Office        Miami       479    727071"
      ]
     },
     "execution_count": 39,
     "metadata": {},
     "output_type": "execute_result"
    }
   ],
   "source": [
    "properties = pd.read_sql_query(\"select * from Properties\", conn)\n",
    "properties.sample(10)"
   ]
  },
  {
   "cell_type": "markdown",
   "id": "e99ae5f4",
   "metadata": {},
   "source": [
    "#### *Data Quality & Structure Checks*"
   ]
  },
  {
   "cell_type": "code",
   "execution_count": 40,
   "id": "c0ee1033",
   "metadata": {},
   "outputs": [
    {
     "data": {
      "text/plain": [
       "PropertyID      0\n",
       "PropertyType    0\n",
       "Location        0\n",
       "Size_sqm        0\n",
       "PriceUSD        0\n",
       "dtype: int64"
      ]
     },
     "execution_count": 40,
     "metadata": {},
     "output_type": "execute_result"
    }
   ],
   "source": [
    "#Check for Missing Values\n",
    "properties.isnull().sum()"
   ]
  },
  {
   "cell_type": "code",
   "execution_count": 41,
   "id": "e4b3e4f2",
   "metadata": {},
   "outputs": [
    {
     "data": {
      "text/plain": [
       "0"
      ]
     },
     "execution_count": 41,
     "metadata": {},
     "output_type": "execute_result"
    }
   ],
   "source": [
    "#Identify Duplicates\n",
    "properties.duplicated().sum()"
   ]
  },
  {
   "cell_type": "code",
   "execution_count": 42,
   "id": "3e4caa3d",
   "metadata": {},
   "outputs": [
    {
     "data": {
      "text/plain": [
       "PropertyID       int64\n",
       "PropertyType    object\n",
       "Location        object\n",
       "Size_sqm         int64\n",
       "PriceUSD         int64\n",
       "dtype: object"
      ]
     },
     "execution_count": 42,
     "metadata": {},
     "output_type": "execute_result"
    }
   ],
   "source": [
    "#Verify Data Types\n",
    "properties.dtypes"
   ]
  },
  {
   "cell_type": "code",
   "execution_count": 43,
   "id": "86959a26",
   "metadata": {},
   "outputs": [
    {
     "name": "stdout",
     "output_type": "stream",
     "text": [
      "Available property types: ['Warehouse' 'Villa' 'Retail' 'Apartment' 'Office']\n",
      "Locations of properties: ['New York' 'Miami' 'Los Angeles' 'Chicago' 'Houston']\n"
     ]
    }
   ],
   "source": [
    "#Inspect Unique Values\n",
    "print(\"Available property types:\", properties.PropertyType.unique())\n",
    "print(\"Locations of properties:\", properties.Location.unique())"
   ]
  },
  {
   "cell_type": "markdown",
   "id": "f05ed82a",
   "metadata": {},
   "source": [
    "#### *Descriptive Statistics*"
   ]
  },
  {
   "cell_type": "code",
   "execution_count": 44,
   "id": "6a23a059",
   "metadata": {},
   "outputs": [
    {
     "data": {
      "text/html": [
       "<div>\n",
       "<style scoped>\n",
       "    .dataframe tbody tr th:only-of-type {\n",
       "        vertical-align: middle;\n",
       "    }\n",
       "\n",
       "    .dataframe tbody tr th {\n",
       "        vertical-align: top;\n",
       "    }\n",
       "\n",
       "    .dataframe thead th {\n",
       "        text-align: right;\n",
       "    }\n",
       "</style>\n",
       "<table border=\"1\" class=\"dataframe\">\n",
       "  <thead>\n",
       "    <tr style=\"text-align: right;\">\n",
       "      <th></th>\n",
       "      <th>Size_sqm</th>\n",
       "      <th>PriceUSD</th>\n",
       "    </tr>\n",
       "  </thead>\n",
       "  <tbody>\n",
       "    <tr>\n",
       "      <th>count</th>\n",
       "      <td>1000.000000</td>\n",
       "      <td>1000.000000</td>\n",
       "    </tr>\n",
       "    <tr>\n",
       "      <th>mean</th>\n",
       "      <td>266.800000</td>\n",
       "      <td>520742.562000</td>\n",
       "    </tr>\n",
       "    <tr>\n",
       "      <th>std</th>\n",
       "      <td>128.249803</td>\n",
       "      <td>278213.721261</td>\n",
       "    </tr>\n",
       "    <tr>\n",
       "      <th>min</th>\n",
       "      <td>50.000000</td>\n",
       "      <td>51696.000000</td>\n",
       "    </tr>\n",
       "    <tr>\n",
       "      <th>25%</th>\n",
       "      <td>158.750000</td>\n",
       "      <td>272553.750000</td>\n",
       "    </tr>\n",
       "    <tr>\n",
       "      <th>50%</th>\n",
       "      <td>254.000000</td>\n",
       "      <td>521777.000000</td>\n",
       "    </tr>\n",
       "    <tr>\n",
       "      <th>75%</th>\n",
       "      <td>374.500000</td>\n",
       "      <td>760105.250000</td>\n",
       "    </tr>\n",
       "    <tr>\n",
       "      <th>max</th>\n",
       "      <td>500.000000</td>\n",
       "      <td>998279.000000</td>\n",
       "    </tr>\n",
       "  </tbody>\n",
       "</table>\n",
       "</div>"
      ],
      "text/plain": [
       "          Size_sqm       PriceUSD\n",
       "count  1000.000000    1000.000000\n",
       "mean    266.800000  520742.562000\n",
       "std     128.249803  278213.721261\n",
       "min      50.000000   51696.000000\n",
       "25%     158.750000  272553.750000\n",
       "50%     254.000000  521777.000000\n",
       "75%     374.500000  760105.250000\n",
       "max     500.000000  998279.000000"
      ]
     },
     "execution_count": 44,
     "metadata": {},
     "output_type": "execute_result"
    }
   ],
   "source": [
    "properties[['Size_sqm', 'PriceUSD']].describe()"
   ]
  },
  {
   "cell_type": "code",
   "execution_count": 45,
   "id": "5dce1530",
   "metadata": {},
   "outputs": [
    {
     "data": {
      "text/plain": [
       "Location\n",
       "New York       206\n",
       "Miami          205\n",
       "Los Angeles    198\n",
       "Houston        198\n",
       "Chicago        193\n",
       "Name: count, dtype: int64"
      ]
     },
     "execution_count": 45,
     "metadata": {},
     "output_type": "execute_result"
    }
   ],
   "source": [
    "properties['PropertyType'].value_counts()\n",
    "properties['Location'].value_counts()"
   ]
  },
  {
   "cell_type": "markdown",
   "id": "f26fdcc6",
   "metadata": {},
   "source": [
    "#### *Exploratory Visualizations*"
   ]
  },
  {
   "cell_type": "code",
   "execution_count": 46,
   "id": "1c01964f",
   "metadata": {},
   "outputs": [
    {
     "name": "stderr",
     "output_type": "stream",
     "text": [
      "c:\\Users\\mokha\\anaconda3\\Lib\\site-packages\\seaborn\\_oldcore.py:1119: FutureWarning: use_inf_as_na option is deprecated and will be removed in a future version. Convert inf values to NaN before operating instead.\n",
      "  with pd.option_context('mode.use_inf_as_na', True):\n"
     ]
    },
    {
     "data": {
      "text/plain": [
       "Text(0.5, 0, 'Price in Million USD')"
      ]
     },
     "execution_count": 46,
     "metadata": {},
     "output_type": "execute_result"
    },
    {
     "data": {
      "image/png": "[encoded data removed]",
      "text/plain": [
       "<Figure size 640x480 with 1 Axes>"
      ]
     },
     "metadata": {},
     "output_type": "display_data"
    }
   ],
   "source": [
    "import seaborn as sns\n",
    "import matplotlib.pyplot as plt\n",
    "sns.histplot(properties.PriceUSD, bins=40)\n",
    "plt.title(\"Properties Price Distribution\")\n",
    "plt.xlabel(\"Price in Million USD\")"
   ]
  },
  {
   "cell_type": "code",
   "execution_count": 47,
   "id": "7195246a",
   "metadata": {},
   "outputs": [],
   "source": [
    "import numpy as np\n",
    "groupLabels = [200000, 300000, 400000, 500000, 600000, 700000, 800000, 900000, np.inf]\n",
    "groupNames = [\n",
    "\"200K-300K\", \"300K-400K\", \"400K-500K\", \"500K-600K\", \"600K-700K\", \"700K-800K\", \"800K-900K\", \"900K+\"\n",
    "]\n",
    "properties['PriceTier'] = pd.cut(\n",
    "    properties['PriceUSD'],\n",
    "    bins=groupLabels,\n",
    "    labels=groupNames,\n",
    "    right=False\n",
    ")\n",
    "\n",
    "stack_data = pd.crosstab(properties['PriceTier'], properties['Location'])\n",
    "stack_data = stack_data.sort_index(ascending=True)"
   ]
  },
  {
   "cell_type": "code",
   "execution_count": 48,
   "id": "d04c0669",
   "metadata": {},
   "outputs": [
    {
     "data": {
      "image/png": "[encoded data removed]",
      "text/plain": [
       "<Figure size 1200x800 with 1 Axes>"
      ]
     },
     "metadata": {},
     "output_type": "display_data"
    }
   ],
   "source": [
    "stack_data.plot(\n",
    "    kind='barh',\n",
    "    stacked=True,\n",
    "    figsize=(12, 8),\n",
    ")\n",
    "\n",
    "# Customize\n",
    "plt.title('Property Counts by Price Tier and Location', fontsize=14)\n",
    "plt.xlabel('Number of Properties', fontsize=12)\n",
    "plt.ylabel('Price Range (USD)', fontsize=12)\n",
    "plt.legend(title='Location', bbox_to_anchor=(1.05, 1))  # Move legend outside\n",
    "plt.tight_layout()\n",
    "plt.show()"
   ]
  },
  {
   "cell_type": "markdown",
   "id": "0c88d45f",
   "metadata": {},
   "source": [
    "#### *Basic Analysis*"
   ]
  },
  {
   "cell_type": "code",
   "execution_count": 49,
   "id": "ec2fbd75",
   "metadata": {},
   "outputs": [
    {
     "data": {
      "text/html": [
       "<div>\n",
       "<style scoped>\n",
       "    .dataframe tbody tr th:only-of-type {\n",
       "        vertical-align: middle;\n",
       "    }\n",
       "\n",
       "    .dataframe tbody tr th {\n",
       "        vertical-align: top;\n",
       "    }\n",
       "\n",
       "    .dataframe thead th {\n",
       "        text-align: right;\n",
       "    }\n",
       "</style>\n",
       "<table border=\"1\" class=\"dataframe\">\n",
       "  <thead>\n",
       "    <tr style=\"text-align: right;\">\n",
       "      <th></th>\n",
       "      <th>Size_sqm</th>\n",
       "      <th>PriceUSD</th>\n",
       "    </tr>\n",
       "  </thead>\n",
       "  <tbody>\n",
       "    <tr>\n",
       "      <th>Size_sqm</th>\n",
       "      <td>1.00000</td>\n",
       "      <td>0.02679</td>\n",
       "    </tr>\n",
       "    <tr>\n",
       "      <th>PriceUSD</th>\n",
       "      <td>0.02679</td>\n",
       "      <td>1.00000</td>\n",
       "    </tr>\n",
       "  </tbody>\n",
       "</table>\n",
       "</div>"
      ],
      "text/plain": [
       "          Size_sqm  PriceUSD\n",
       "Size_sqm   1.00000   0.02679\n",
       "PriceUSD   0.02679   1.00000"
      ]
     },
     "execution_count": 49,
     "metadata": {},
     "output_type": "execute_result"
    }
   ],
   "source": [
    "#see the correlation between property size and price\n",
    "properties[['Size_sqm', 'PriceUSD']].corr()"
   ]
  },
  {
   "cell_type": "markdown",
   "id": "69766a2f",
   "metadata": {},
   "source": []
  },
  {
   "cell_type": "code",
   "execution_count": 50,
   "id": "1bebf049",
   "metadata": {},
   "outputs": [
    {
     "data": {
      "text/plain": [
       "Location\n",
       "Chicago        2820.051520\n",
       "Miami          2725.699262\n",
       "Houston        2703.518090\n",
       "New York       2664.552756\n",
       "Los Angeles    2618.623506\n",
       "Name: Price_per_sqm, dtype: float64"
      ]
     },
     "execution_count": 50,
     "metadata": {},
     "output_type": "execute_result"
    }
   ],
   "source": [
    "#lets see the impact of Location on price per sqm of the property\n",
    "properties['Price_per_sqm'] = properties['PriceUSD'] / properties['Size_sqm']\n",
    "sqm_price_per_location = properties.groupby('Location')['Price_per_sqm'].mean().sort_values(ascending=False)\n",
    "sqm_price_per_location"
   ]
  },
  {
   "cell_type": "code",
   "execution_count": 51,
   "id": "868a3490",
   "metadata": {},
   "outputs": [
    {
     "data": {
      "text/plain": [
       "<Axes: xlabel='PropertyType', ylabel='PriceUSD'>"
      ]
     },
     "execution_count": 51,
     "metadata": {},
     "output_type": "execute_result"
    },
    {
     "data": {
      "image/png": "[encoded data removed]",
      "text/plain": [
       "<Figure size 640x480 with 1 Axes>"
      ]
     },
     "metadata": {},
     "output_type": "display_data"
    }
   ],
   "source": [
    "sns.boxplot(data=properties, x='PropertyType', y='PriceUSD')"
   ]
  },
  {
   "cell_type": "markdown",
   "id": "62b34952",
   "metadata": {},
   "source": [
    "## Property Market Analysis Summary"
   ]
  },
  {
   "cell_type": "markdown",
   "id": "9d1082b8",
   "metadata": {},
   "source": [
    "- The extremely low correlation (**0.02679**) between `Price` and `Size_sqm` suggests that:  \n",
    "  - Property prices are **not strongly influenced by size** alone.  \n",
    "  - Other factors (location, property type, amenities) likely drive pricing more significantly.  \n",
    "\n",
    "- **Chicago** has the highest mean price per sqm (**$2,820**), followed by **Miami** ($2,726) and **Houston** ($2,704).  \n",
    "- **Los Angeles** trails despite its high demand, possibly due to larger property sizes diluting the price per sqm.  \n",
    "\n",
    "- **Mid-range properties (300K-600K)** dominate most locations, especially **Chicago** and **Houston**.  \n",
    "- **Luxury segments (900K+)** are concentrated in **Miami** and **Los Angeles**, aligning with their premium markets."
   ]
  },
  {
   "cell_type": "code",
   "execution_count": null,
   "id": "169411d5",
   "metadata": {},
   "outputs": [],
   "source": []
  },
  {
   "cell_type": "code",
   "execution_count": null,
   "id": "67d88529",
   "metadata": {},
   "outputs": [],
   "source": []
  }
 ],
 "metadata": {
  "kernelspec": {
   "display_name": "base",
   "language": "python",
   "name": "python3"
  },
  "language_info": {
   "codemirror_mode": {
    "name": "ipython",
    "version": 3
   },
   "file_extension": ".py",
   "mimetype": "text/x-python",
   "name": "python",
   "nbconvert_exporter": "python",
   "pygments_lexer": "ipython3",
   "version": "3.11.7"
  }
 },
 "nbformat": 4,
 "nbformat_minor": 5
}
